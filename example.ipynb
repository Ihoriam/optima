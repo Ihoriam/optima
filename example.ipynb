{
 "cells": [
  {
   "cell_type": "code",
   "execution_count": 9,
   "metadata": {},
   "outputs": [],
   "source": [
    "from optima import stoch_min, one_min, mult_min, function\n",
    "import numpy as np"
   ]
  },
  {
   "cell_type": "markdown",
   "metadata": {},
   "source": [
    "## Методи одновимірної оптимізації"
   ]
  },
  {
   "cell_type": "code",
   "execution_count": 10,
   "metadata": {},
   "outputs": [],
   "source": [
    "def f(x):\n",
    "    return x**2 + x + np.sin(x)\n",
    "\n",
    "def df(x):\n",
    "    return 2*x + np.cos(x) + 1\n",
    "\n",
    "def d2f(x):\n",
    "    return 2 - np.sin(x)"
   ]
  },
  {
   "cell_type": "markdown",
   "metadata": {},
   "source": [
    " _**методи нульового порядку**_"
   ]
  },
  {
   "cell_type": "code",
   "execution_count": 11,
   "metadata": {},
   "outputs": [
    {
     "name": "stdout",
     "output_type": "stream",
     "text": [
      "(-0.8354176568984986, -0.8790717644944811, 17)\n",
      "(-0.8354407186905348, -0.8790717645196147, 24)\n",
      "(-0.8354295849119788, -0.8790717646895271, 4)\n"
     ]
    }
   ],
   "source": [
    "print(one_min.dihotomy(f, -4, 4, 1e-4, 1e-5))\n",
    "print(one_min.golden_ration(f, -4, 4, 1e-4))\n",
    "print(one_min.powell(f, 2, 1e-4, 1e-4))"
   ]
  },
  {
   "cell_type": "markdown",
   "metadata": {},
   "source": [
    "_**методи першого та друго порядку**_"
   ]
  },
  {
   "cell_type": "code",
   "execution_count": 12,
   "metadata": {},
   "outputs": [
    {
     "name": "stdout",
     "output_type": "stream",
     "text": [
      "(-0.83544921875, -0.8790717641611248, 13)\n",
      "(-0.8354275099985494, -0.8790717646836232, 3)\n",
      "(-0.8354296059371037, -0.8790717646895265, 4)\n"
     ]
    }
   ],
   "source": [
    "print(one_min.middle_point(f, df, -4, 4, 1e-4))\n",
    "print(one_min.chord(f, df, -4, 4, 1e-4))\n",
    "print(one_min.newton(f, df, d2f, 2, 1e-4))"
   ]
  },
  {
   "cell_type": "markdown",
   "metadata": {},
   "source": [
    "## Методи стохастичної оптимізації"
   ]
  },
  {
   "cell_type": "code",
   "execution_count": 13,
   "metadata": {},
   "outputs": [],
   "source": [
    "def f(x):\n",
    "    return 0.25*x[0]**4 - 0.5*x[0]**2 + 0.1*x[0] + 0.5*x[1]**2"
   ]
  },
  {
   "cell_type": "code",
   "execution_count": 14,
   "metadata": {},
   "outputs": [],
   "source": [
    "x0 = np.array([2., 2.])"
   ]
  },
  {
   "cell_type": "code",
   "execution_count": 7,
   "metadata": {},
   "outputs": [
    {
     "name": "stdout",
     "output_type": "stream",
     "text": [
      "[array([-1.04564613e+00,  1.01774654e-03]), -0.35238433371538586, 913]\n",
      "(array([-1.04676288e+00, -9.50182842e-04]), -0.35238561462268847, 50)\n",
      "(array([-1.04666044e+00, -6.75635105e-04]), -0.35238584509711984, 100)\n"
     ]
    }
   ],
   "source": [
    "print(stoch_min.sim_anneal(f, x0))\n",
    "print(stoch_min.swarm_opt(f, 20, 2))\n",
    "print(stoch_min.wolf_opt(f, 2))"
   ]
  },
  {
   "cell_type": "markdown",
   "metadata": {},
   "source": [
    "## ..."
   ]
  },
  {
   "cell_type": "code",
   "execution_count": null,
   "metadata": {},
   "outputs": [],
   "source": []
  },
  {
   "cell_type": "code",
   "execution_count": null,
   "metadata": {},
   "outputs": [],
   "source": []
  },
  {
   "cell_type": "code",
   "execution_count": null,
   "metadata": {},
   "outputs": [],
   "source": []
  },
  {
   "cell_type": "code",
   "execution_count": null,
   "metadata": {},
   "outputs": [],
   "source": []
  }
 ],
 "metadata": {
  "kernelspec": {
   "display_name": "Python 3",
   "language": "python",
   "name": "python3"
  },
  "language_info": {
   "codemirror_mode": {
    "name": "ipython",
    "version": 3
   },
   "file_extension": ".py",
   "mimetype": "text/x-python",
   "name": "python",
   "nbconvert_exporter": "python",
   "pygments_lexer": "ipython3",
   "version": "3.8.3"
  }
 },
 "nbformat": 4,
 "nbformat_minor": 4
}
